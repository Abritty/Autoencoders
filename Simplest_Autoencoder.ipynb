{
  "nbformat": 4,
  "nbformat_minor": 0,
  "metadata": {
    "colab": {
      "name": "Simplest Autoencoder.ipynb",
      "provenance": [],
      "authorship_tag": "ABX9TyMpUcOH09/mal/+AyOiOTAz",
      "include_colab_link": true
    },
    "kernelspec": {
      "name": "python3",
      "display_name": "Python 3"
    }
  },
  "cells": [
    {
      "cell_type": "markdown",
      "metadata": {
        "id": "view-in-github",
        "colab_type": "text"
      },
      "source": [
        "<a href=\"https://colab.research.google.com/github/Abritty/Autoencoders/blob/main/Simplest_Autoencoder.ipynb\" target=\"_parent\"><img src=\"https://colab.research.google.com/assets/colab-badge.svg\" alt=\"Open In Colab\"/></a>"
      ]
    },
    {
      "cell_type": "code",
      "metadata": {
        "id": "3tY4UB5nSV31"
      },
      "source": [
        "import keras\n",
        "from keras import layers\n",
        "\n",
        "# This is the size of our encoded representations\n",
        "encoding_dim = 32  # 32 floats -> compression of factor 24.5, assuming the input is 784 floats\n",
        "\n",
        "# This is our input image\n",
        "input_img = keras.Input(shape=(784,))\n",
        "# \"encoded\" is the encoded representation of the input\n",
        "encoded = layers.Dense(encoding_dim, activation='relu')(input_img)\n",
        "# \"decoded\" is the lossy reconstruction of the input\n",
        "decoded = layers.Dense(784, activation='sigmoid')(encoded)\n",
        "\n",
        "# This model maps an input to its reconstruction\n",
        "autoencoder = keras.Model(input_img, decoded)"
      ],
      "execution_count": 1,
      "outputs": []
    },
    {
      "cell_type": "code",
      "metadata": {
        "id": "ZIv617m9S1k1"
      },
      "source": [
        "# This model maps an input to its encoded representation\n",
        "encoder = keras.Model(input_img, encoded)"
      ],
      "execution_count": 2,
      "outputs": []
    },
    {
      "cell_type": "code",
      "metadata": {
        "id": "GK0B1qSQS97C"
      },
      "source": [
        "# This is our encoded (32-dimensional) input\n",
        "encoded_input = keras.Input(shape=(encoding_dim,))\n",
        "# Retrieve the last layer of the autoencoder model\n",
        "decoder_layer = autoencoder.layers[-1]\n",
        "# Create the decoder model\n",
        "decoder = keras.Model(encoded_input, decoder_layer(encoded_input))"
      ],
      "execution_count": 3,
      "outputs": []
    },
    {
      "cell_type": "code",
      "metadata": {
        "id": "1zEMar4wTZpb"
      },
      "source": [
        "autoencoder.compile(optimizer='adam', loss='binary_crossentropy')"
      ],
      "execution_count": 4,
      "outputs": []
    },
    {
      "cell_type": "code",
      "metadata": {
        "colab": {
          "base_uri": "https://localhost:8080/"
        },
        "id": "BExnhlpLTdAS",
        "outputId": "d784fc8c-bd03-4a9c-c39e-6d7249243c91"
      },
      "source": [
        "from keras.datasets import mnist\n",
        "import numpy as np\n",
        "(x_train, _), (x_test, _) = mnist.load_data()"
      ],
      "execution_count": 5,
      "outputs": [
        {
          "output_type": "stream",
          "text": [
            "Downloading data from https://storage.googleapis.com/tensorflow/tf-keras-datasets/mnist.npz\n",
            "11493376/11490434 [==============================] - 0s 0us/step\n"
          ],
          "name": "stdout"
        }
      ]
    },
    {
      "cell_type": "code",
      "metadata": {
        "colab": {
          "base_uri": "https://localhost:8080/"
        },
        "id": "_TYBniB7ThTi",
        "outputId": "c782a8ee-0fb6-4875-892f-5731d68d9410"
      },
      "source": [
        "x_train = x_train.astype('float32') / 255.\n",
        "x_test = x_test.astype('float32') / 255.\n",
        "x_train = x_train.reshape((len(x_train), np.prod(x_train.shape[1:])))\n",
        "x_test = x_test.reshape((len(x_test), np.prod(x_test.shape[1:])))\n",
        "print(x_train.shape)\n",
        "print(x_test.shape)"
      ],
      "execution_count": 6,
      "outputs": [
        {
          "output_type": "stream",
          "text": [
            "(60000, 784)\n",
            "(10000, 784)\n"
          ],
          "name": "stdout"
        }
      ]
    },
    {
      "cell_type": "code",
      "metadata": {
        "colab": {
          "base_uri": "https://localhost:8080/"
        },
        "id": "cWFbVixOTmb6",
        "outputId": "7e9e39c6-44c9-40ca-e3ef-d278087ca308"
      },
      "source": [
        "autoencoder.fit(x_train, x_train,\n",
        "                epochs=50,\n",
        "                batch_size=256,\n",
        "                shuffle=True,\n",
        "                validation_data=(x_test, x_test))"
      ],
      "execution_count": 7,
      "outputs": [
        {
          "output_type": "stream",
          "text": [
            "Epoch 1/50\n",
            "235/235 [==============================] - 2s 8ms/step - loss: 0.2755 - val_loss: 0.1907\n",
            "Epoch 2/50\n",
            "235/235 [==============================] - 2s 7ms/step - loss: 0.1707 - val_loss: 0.1530\n",
            "Epoch 3/50\n",
            "235/235 [==============================] - 2s 7ms/step - loss: 0.1438 - val_loss: 0.1338\n",
            "Epoch 4/50\n",
            "235/235 [==============================] - 2s 7ms/step - loss: 0.1284 - val_loss: 0.1216\n",
            "Epoch 5/50\n",
            "235/235 [==============================] - 2s 7ms/step - loss: 0.1183 - val_loss: 0.1134\n",
            "Epoch 6/50\n",
            "235/235 [==============================] - 2s 7ms/step - loss: 0.1115 - val_loss: 0.1076\n",
            "Epoch 7/50\n",
            "235/235 [==============================] - 2s 7ms/step - loss: 0.1066 - val_loss: 0.1033\n",
            "Epoch 8/50\n",
            "235/235 [==============================] - 2s 7ms/step - loss: 0.1029 - val_loss: 0.1000\n",
            "Epoch 9/50\n",
            "235/235 [==============================] - 2s 7ms/step - loss: 0.0999 - val_loss: 0.0976\n",
            "Epoch 10/50\n",
            "235/235 [==============================] - 2s 7ms/step - loss: 0.0979 - val_loss: 0.0958\n",
            "Epoch 11/50\n",
            "235/235 [==============================] - 2s 7ms/step - loss: 0.0964 - val_loss: 0.0946\n",
            "Epoch 12/50\n",
            "235/235 [==============================] - 2s 7ms/step - loss: 0.0955 - val_loss: 0.0939\n",
            "Epoch 13/50\n",
            "235/235 [==============================] - 2s 7ms/step - loss: 0.0948 - val_loss: 0.0934\n",
            "Epoch 14/50\n",
            "235/235 [==============================] - 2s 7ms/step - loss: 0.0944 - val_loss: 0.0929\n",
            "Epoch 15/50\n",
            "235/235 [==============================] - 2s 7ms/step - loss: 0.0941 - val_loss: 0.0928\n",
            "Epoch 16/50\n",
            "235/235 [==============================] - 2s 7ms/step - loss: 0.0939 - val_loss: 0.0925\n",
            "Epoch 17/50\n",
            "235/235 [==============================] - 2s 7ms/step - loss: 0.0937 - val_loss: 0.0925\n",
            "Epoch 18/50\n",
            "235/235 [==============================] - 2s 7ms/step - loss: 0.0936 - val_loss: 0.0923\n",
            "Epoch 19/50\n",
            "235/235 [==============================] - 2s 8ms/step - loss: 0.0935 - val_loss: 0.0922\n",
            "Epoch 20/50\n",
            "235/235 [==============================] - 2s 7ms/step - loss: 0.0934 - val_loss: 0.0921\n",
            "Epoch 21/50\n",
            "235/235 [==============================] - 2s 7ms/step - loss: 0.0933 - val_loss: 0.0921\n",
            "Epoch 22/50\n",
            "235/235 [==============================] - 2s 7ms/step - loss: 0.0932 - val_loss: 0.0920\n",
            "Epoch 23/50\n",
            "235/235 [==============================] - 2s 8ms/step - loss: 0.0932 - val_loss: 0.0919\n",
            "Epoch 24/50\n",
            "235/235 [==============================] - 2s 7ms/step - loss: 0.0931 - val_loss: 0.0919\n",
            "Epoch 25/50\n",
            "235/235 [==============================] - 2s 7ms/step - loss: 0.0931 - val_loss: 0.0919\n",
            "Epoch 26/50\n",
            "235/235 [==============================] - 2s 7ms/step - loss: 0.0930 - val_loss: 0.0918\n",
            "Epoch 27/50\n",
            "235/235 [==============================] - 2s 7ms/step - loss: 0.0930 - val_loss: 0.0918\n",
            "Epoch 28/50\n",
            "235/235 [==============================] - 2s 7ms/step - loss: 0.0930 - val_loss: 0.0917\n",
            "Epoch 29/50\n",
            "235/235 [==============================] - 2s 7ms/step - loss: 0.0929 - val_loss: 0.0918\n",
            "Epoch 30/50\n",
            "235/235 [==============================] - 2s 7ms/step - loss: 0.0929 - val_loss: 0.0917\n",
            "Epoch 31/50\n",
            "235/235 [==============================] - 2s 8ms/step - loss: 0.0929 - val_loss: 0.0918\n",
            "Epoch 32/50\n",
            "235/235 [==============================] - 2s 7ms/step - loss: 0.0928 - val_loss: 0.0916\n",
            "Epoch 33/50\n",
            "235/235 [==============================] - 2s 7ms/step - loss: 0.0928 - val_loss: 0.0916\n",
            "Epoch 34/50\n",
            "235/235 [==============================] - 2s 7ms/step - loss: 0.0928 - val_loss: 0.0917\n",
            "Epoch 35/50\n",
            "235/235 [==============================] - 2s 7ms/step - loss: 0.0928 - val_loss: 0.0917\n",
            "Epoch 36/50\n",
            "235/235 [==============================] - 2s 7ms/step - loss: 0.0928 - val_loss: 0.0916\n",
            "Epoch 37/50\n",
            "235/235 [==============================] - 2s 8ms/step - loss: 0.0927 - val_loss: 0.0916\n",
            "Epoch 38/50\n",
            "235/235 [==============================] - 2s 7ms/step - loss: 0.0927 - val_loss: 0.0915\n",
            "Epoch 39/50\n",
            "235/235 [==============================] - 2s 7ms/step - loss: 0.0927 - val_loss: 0.0915\n",
            "Epoch 40/50\n",
            "235/235 [==============================] - 2s 8ms/step - loss: 0.0927 - val_loss: 0.0915\n",
            "Epoch 41/50\n",
            "235/235 [==============================] - 2s 8ms/step - loss: 0.0927 - val_loss: 0.0915\n",
            "Epoch 42/50\n",
            "235/235 [==============================] - 2s 7ms/step - loss: 0.0927 - val_loss: 0.0915\n",
            "Epoch 43/50\n",
            "235/235 [==============================] - 2s 7ms/step - loss: 0.0927 - val_loss: 0.0915\n",
            "Epoch 44/50\n",
            "235/235 [==============================] - 2s 7ms/step - loss: 0.0927 - val_loss: 0.0916\n",
            "Epoch 45/50\n",
            "235/235 [==============================] - 2s 7ms/step - loss: 0.0926 - val_loss: 0.0915\n",
            "Epoch 46/50\n",
            "235/235 [==============================] - 2s 7ms/step - loss: 0.0926 - val_loss: 0.0915\n",
            "Epoch 47/50\n",
            "235/235 [==============================] - 2s 8ms/step - loss: 0.0926 - val_loss: 0.0915\n",
            "Epoch 48/50\n",
            "235/235 [==============================] - 2s 7ms/step - loss: 0.0926 - val_loss: 0.0915\n",
            "Epoch 49/50\n",
            "235/235 [==============================] - 2s 7ms/step - loss: 0.0926 - val_loss: 0.0914\n",
            "Epoch 50/50\n",
            "235/235 [==============================] - 2s 8ms/step - loss: 0.0926 - val_loss: 0.0915\n"
          ],
          "name": "stdout"
        },
        {
          "output_type": "execute_result",
          "data": {
            "text/plain": [
              "<tensorflow.python.keras.callbacks.History at 0x7f21a35b6588>"
            ]
          },
          "metadata": {
            "tags": []
          },
          "execution_count": 7
        }
      ]
    },
    {
      "cell_type": "code",
      "metadata": {
        "id": "PwPaQqd9Ub64"
      },
      "source": [
        "encoded_imgs = encoder.predict(x_test)\n",
        "decoded_imgs = decoder.predict(encoded_imgs)"
      ],
      "execution_count": 8,
      "outputs": []
    },
    {
      "cell_type": "code",
      "metadata": {
        "colab": {
          "base_uri": "https://localhost:8080/"
        },
        "id": "t5HqoofnX95D",
        "outputId": "cd557670-b0c5-4a75-bcf2-e3b003178c04"
      },
      "source": [
        "print(encoded_imgs.shape)\n",
        "print(decoded_imgs.shape)"
      ],
      "execution_count": 11,
      "outputs": [
        {
          "output_type": "stream",
          "text": [
            "(10000, 32)\n",
            "(10000, 784)\n"
          ],
          "name": "stdout"
        }
      ]
    },
    {
      "cell_type": "code",
      "metadata": {
        "colab": {
          "base_uri": "https://localhost:8080/",
          "height": 248
        },
        "id": "WDfm-b0LUiIl",
        "outputId": "c3eb07ff-3917-441f-adae-6524f9e21604"
      },
      "source": [
        "import matplotlib.pyplot as plt\n",
        "\n",
        "n = 10  # How many digits we will display\n",
        "plt.figure(figsize=(20, 4))\n",
        "for i in range(n):\n",
        "    # Display original\n",
        "    ax = plt.subplot(2, n, i + 1)\n",
        "    plt.imshow(x_test[i].reshape(28, 28))\n",
        "    plt.gray()\n",
        "    ax.get_xaxis().set_visible(False)\n",
        "    ax.get_yaxis().set_visible(False)\n",
        "\n",
        "    # Display reconstruction\n",
        "    ax = plt.subplot(2, n, i + 1 + n)\n",
        "    plt.imshow(decoded_imgs[i].reshape(28, 28))\n",
        "    plt.gray()\n",
        "    ax.get_xaxis().set_visible(False)\n",
        "    ax.get_yaxis().set_visible(False)\n",
        "plt.show()"
      ],
      "execution_count": 9,
      "outputs": [
        {
          "output_type": "display_data",
          "data": {
            "image/png": "[encoded data removed]",
            "text/plain": [
              "<Figure size 1440x288 with 20 Axes>"
            ]
          },
          "metadata": {
            "tags": [],
            "needs_background": "light"
          }
        }
      ]
    }
  ]
}